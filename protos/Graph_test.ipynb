{
 "cells": [
  {
   "cell_type": "code",
   "execution_count": 1,
   "metadata": {
    "collapsed": true
   },
   "outputs": [],
   "source": [
    "%matplotlib inline\n",
    "from IPython.core.display import display\n",
    "from itertools import combinations\n",
    "from tqdm import tqdm_notebook as tqdm\n",
    "import pickle\n",
    "import pandas\n",
    "import numpy\n",
    "\n",
    "from scipy.stats import skew, kurtosis"
   ]
  },
  {
   "cell_type": "code",
   "execution_count": 2,
   "metadata": {
    "collapsed": true
   },
   "outputs": [],
   "source": [
    "with open('final_tree.pkl', 'rb') as f:\n",
    "    final_tree = pickle.load(f)\n",
    "use_cols = ['cnum', 'pred', 'new', 'vmax', 'vmin', 'vavg']#, 'vmed', 'vstd', 'vskew', 'vkurt']"
   ]
  },
  {
   "cell_type": "code",
   "execution_count": null,
   "metadata": {
    "collapsed": true
   },
   "outputs": [],
   "source": [
    "df = pandas.read_csv('../data/test.csv')\n",
    "submit = pandas.read_csv('submit.csv')\n",
    "df['pred'] = submit['is_duplicate'].values\n",
    "\n",
    "df2 = pandas.read_csv('../data/train.csv')\n",
    "pos_rate = df2['is_duplicate'].sum() / df2.shape[0]\n",
    "df2['pred'] = df2['is_duplicate'] / pos_rate * 0.165\n",
    "\n",
    "\n",
    "import networkx as nx\n",
    "from itertools import combinations\n",
    "G = nx.Graph()\n",
    "\n",
    "#edges = [tuple(x) for x in df[['question1', 'question2', 'pred']].values]\n",
    "#G.add_weighted_edges_from(edges)\n",
    "map_score = dict(((x[0], x[1]), x[2]) for x in df[['question1', 'question2', 'pred']].values)\n",
    "\n",
    "#edges = [tuple(x) for x in df2[['question1', 'question2', 'pred']].values]\n",
    "#G.add_weighted_edges_from(edges)\n",
    "map_score2 = dict(((x[0], x[1]), x[2]) for x in df2[['question1', 'question2', 'pred']].values)\n",
    "map_score.update(map_score2)\n",
    "edges = [(k[0], k[1], v) for k, v in map_score.items()]\n",
    "G.add_weighted_edges_from(edges)\n",
    "\n",
    "import copy\n",
    "cnt = 0\n",
    "cliques = sorted(list(nx.find_cliques(G)), key=lambda x: (len(x), max(map(str, x))))"
   ]
  },
  {
   "cell_type": "code",
   "execution_count": null,
   "metadata": {
    "collapsed": false
   },
   "outputs": [
    {
     "name": "stderr",
     "output_type": "stream",
     "text": [
      "Widget Javascript not detected.  It may not be installed properly. Did you enable the widgetsnbextension? If not, then run \"jupyter nbextension enable --py --sys-prefix widgetsnbextension\"\n"
     ]
    },
    {
     "name": "stdout",
     "output_type": "stream",
     "text": [
      "How do going to gym?\n",
      "How would you Google Maps?\n",
      "How you've had sex?\n",
      "I universe?\n",
      "What are the best dating in India?\n",
      "What does the Malayalam word mean?\n",
      "What is annual revenue?\n",
      "What is boot?\n",
      "What is hedge fund have its back office operations in-house or outsourced to a fund admin?\n",
      "What is in cricket?\n",
      "What is the difference between middle school and high school?\n",
      "What is the police code?\n",
      "What spiritual?\n",
      "What training?\n"
     ]
    }
   ],
   "source": [
    "map_result = copy.deepcopy(map_score)\n",
    "map_cnum = {}\n",
    "map_data = {}\n",
    "\n",
    "for cli in tqdm(cliques):\n",
    "    #if len(cli) < 2:\n",
    "    #    continue\n",
    "    if len(cli) == 1:\n",
    "        q1 = cli[0]\n",
    "        print(q1)\n",
    "        map_result[q1, q1] = 1.\n",
    "        map_cnum[q1, q1] = 1\n",
    "        map_data[q1, q1] = (1., 1., 1.)\n",
    "        continue\n",
    "    keys = {}\n",
    "    for q1, q2 in combinations(cli, 2):\n",
    "        if (q1, q2) in map_score:\n",
    "            keys[q1, q2] = map_score[q1, q2]\n",
    "        elif (q2, q1) in map_score:\n",
    "            keys[q2, q1] = map_score[q2, q1]\n",
    "        elif (q1, q2) in map_score2:\n",
    "            keys[q1, q2] = map_score2[q1, q2]\n",
    "        elif (q2, q1) in map_score2:\n",
    "            keys[q2, q1] = map_score2[q2, q1]\n",
    "        else:\n",
    "            raise Exception('no edge {}'.format((q1, q2)))\n",
    "            \n",
    "    lval = list(keys.values())\n",
    "    val_max = numpy.max(lval)\n",
    "    val_min = numpy.min(lval)\n",
    "    val_avg = numpy.mean(lval)\n",
    "    \"\"\"\n",
    "    val_med = numpy.median(lval)\n",
    "    val_std = numpy.std(lval)\n",
    "    val_skew = skew(lval)\n",
    "    val_kurt = kurtosis(lval)\n",
    "    \"\"\"\n",
    "    \n",
    "    if val_avg > 0.4:#avg_pos:\n",
    "        val = val_max\n",
    "        keys = {k: numpy.max([val, map_result[k]]) for k in keys}\n",
    "    elif val_avg > 0.05:\n",
    "        val = val_avg\n",
    "        keys = {k: numpy.max([val, map_result[k]]) for k in keys}\n",
    "    else:\n",
    "        val = val_min\n",
    "        keys = {k: numpy.min([val, map_result[k]]) for k in keys}\n",
    "\n",
    "    map_result.update(keys)\n",
    "    keys = {k: len(cli) for k in keys}\n",
    "    map_cnum.update(keys)\n",
    "    keys = {k: (val_max, val_min, val_avg) for k in keys}\n",
    "    map_data.update(keys)"
   ]
  },
  {
   "cell_type": "code",
   "execution_count": null,
   "metadata": {
    "collapsed": false,
    "scrolled": true
   },
   "outputs": [],
   "source": [
    "list_val = []\n",
    "list_data = []\n",
    "for q1, q2 in tqdm(df[['question1', 'question2']].values):\n",
    "    key = (q1, q2)\n",
    "    new_pred = map_result[q1, q2]\n",
    "    if key not in map_cnum:\n",
    "        map_cnum[q1, q2] = 1\n",
    "        map_data[q1, q2] = (new_pred, new_pred, new_pred)\n",
    "    list_val.append(map_result[q1, q2])\n",
    "    cnum = map_cnum.get((q1, q2), -1)\n",
    "    data = list(map_data[q1, q2])\n",
    "    pred = map_score[key]\n",
    "    \n",
    "    #'cnum', 'pred', 'new', 'vmax','vmin', 'vavg'\n",
    "    list_data.append([cnum, pred, new_pred] + data)\n",
    "    \n",
    "list_data = pandas.DataFrame(list_data, columns=use_cols)[['cnum', 'pred', 'new', 'vmax', 'vmin', 'vavg']].values\n",
    "if list_data.shape[1] != final_tree.feature_importances_.shape[0]:                                                                                                                                                                                                                                           \n",
    "    raise Exception('Not match feature num: %s %s' % (x_test.shape[1], n_features))  \n",
    "    \n",
    "pred = final_tree.predict_proba(list_data)[:, 1]\n",
    "submit['is_duplicate'] = pred#list_val\n",
    "submit.to_csv('submit_clique.csv', index=False)"
   ]
  },
  {
   "cell_type": "code",
   "execution_count": null,
   "metadata": {
    "collapsed": false
   },
   "outputs": [],
   "source": [
    "map_dup = dict(((x[0], x[1]), x[2]) for x in df2[['question1', 'question2', 'is_duplicate']].values)\n",
    "list_res = []\n",
    "for key, new in map_score2.items():\n",
    "    new = map_result[key]\n",
    "    try:\n",
    "        label = map_dup[key]\n",
    "    except:\n",
    "        continue\n",
    "    pred = map_score2[key]\n",
    "    new_pred = new\n",
    "    data = list(map_data.get(key, (0, 0, 0)))\n",
    "    new_pred = new\n",
    "    cnum = map_cnum.get(key, 0)\n",
    "    list_res.append([ label, cnum,pred, new_pred] + data)\n",
    "\n",
    "aaa = pandas.DataFrame(list_res, columns=['label'] + use_cols)\n",
    "from tfidf_k import calc_weight\n",
    "from sklearn.metrics import log_loss, roc_auc_score\n",
    "sw = calc_weight(aaa['label'].values)\n",
    "print(roc_auc_score(aaa['label'].values, aaa['pred'].values, sample_weight=sw))\n",
    "print(log_loss(aaa['label'].values, aaa['pred'].values, sample_weight=sw))\n",
    "print(roc_auc_score(aaa['label'].values, aaa['new'].values, sample_weight=sw))\n",
    "print(log_loss(aaa['label'].values, aaa['new'].values, sample_weight=sw))"
   ]
  },
  {
   "cell_type": "code",
   "execution_count": null,
   "metadata": {
    "collapsed": false
   },
   "outputs": [],
   "source": [
    "bbb = pandas.DataFrame(list_data, columns=['cnum', 'pred', 'new', 'vmax', 'vmin', 'vavg'])\n",
    "\n",
    "pred = final_tree.predict_proba(bbb)[:, 1]\n",
    "bbb['new2'] = pred\n",
    "display(bbb['new2'].hist())"
   ]
  },
  {
   "cell_type": "code",
   "execution_count": null,
   "metadata": {
    "collapsed": false
   },
   "outputs": [],
   "source": [
    "list_data[0].shap"
   ]
  },
  {
   "cell_type": "code",
   "execution_count": null,
   "metadata": {
    "collapsed": false
   },
   "outputs": [],
   "source": [
    "bbb"
   ]
  },
  {
   "cell_type": "code",
   "execution_count": null,
   "metadata": {
    "collapsed": false
   },
   "outputs": [],
   "source": [
    "pred = final_tree.predict_proba(aaa[use_cols])[:, 1]\n",
    "aaa['new2'] = pred\n",
    "print(roc_auc_score(aaa['label'].values, aaa['new2'].values, sample_weight=sw))\n",
    "print(log_loss(aaa['label'].values, aaa['new2'].values, sample_weight=sw))"
   ]
  },
  {
   "cell_type": "code",
   "execution_count": null,
   "metadata": {
    "collapsed": false
   },
   "outputs": [],
   "source": [
    "print(roc_auc_score(aaa['label'].values, aaa['pred'].values, sample_weight=sw))\n",
    "print(log_loss(aaa['label'].values, aaa['pred'].values , sample_weight=sw))\n",
    "print(roc_auc_score(aaa['label'].values, aaa['new'].values, sample_weight=sw))\n",
    "print(log_loss(aaa['label'].values, aaa['new'].values, sample_weight=sw))"
   ]
  },
  {
   "cell_type": "code",
   "execution_count": null,
   "metadata": {
    "collapsed": true
   },
   "outputs": [],
   "source": [
    "1.0\n",
    "0.132888890229\n",
    "0.99937155985\n",
    "0.112793364804"
   ]
  }
 ],
 "metadata": {
  "anaconda-cloud": {},
  "kernelspec": {
   "display_name": "Python [default]",
   "language": "python",
   "name": "python3"
  },
  "language_info": {
   "codemirror_mode": {
    "name": "ipython",
    "version": 3
   },
   "file_extension": ".py",
   "mimetype": "text/x-python",
   "name": "python",
   "nbconvert_exporter": "python",
   "pygments_lexer": "ipython3",
   "version": "3.5.3"
  },
  "widgets": {
   "state": {
    "4adc013d050c4cde983740bed0f9e1e0": {
     "views": [
      {
       "cell_index": 3
      }
     ]
    }
   },
   "version": "1.2.0"
  }
 },
 "nbformat": 4,
 "nbformat_minor": 2
}
